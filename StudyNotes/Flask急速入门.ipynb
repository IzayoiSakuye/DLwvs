{
 "cells": [
  {
   "cell_type": "markdown",
   "id": "b9013c04-f113-4992-bab9-86b6d553b8e5",
   "metadata": {},
   "source": [
    "# Flask\n",
    "Flask是一个微型后端框架\n",
    "\n",
    "## 包下载\n",
    "使用`pip install flask`下载\n",
    "\n",
    "## Hello world\n"
   ]
  },
  {
   "cell_type": "code",
   "execution_count": 1,
   "id": "1202eb64-0e3c-4af1-a214-284bc1e932b2",
   "metadata": {},
   "outputs": [
    {
     "name": "stdout",
     "output_type": "stream",
     "text": [
      " * Serving Flask app '__main__'\n",
      " * Debug mode: off\n"
     ]
    },
    {
     "name": "stderr",
     "output_type": "stream",
     "text": [
      "WARNING: This is a development server. Do not use it in a production deployment. Use a production WSGI server instead.\n",
      " * Running on http://127.0.0.1:5000\n",
      "Press CTRL+C to quit\n"
     ]
    }
   ],
   "source": [
    "from flask import Flask\n",
    "\n",
    "# 创建Flask的实例 app对象\n",
    "app = Flask(__name__)\n",
    "\n",
    "# 使用装饰器绑定路由\n",
    "@app.route('/')\n",
    "def hello_world():\n",
    "    return \"hello world\"\n",
    "\n",
    "@app.route('/ciallo')\n",
    "def ciallo():\n",
    "    return \"Ciallo～(∠・ω< )⌒★\"\n",
    "\n",
    "app.run()"
   ]
  },
  {
   "cell_type": "markdown",
   "id": "dcbdb3e6-36a2-4369-a6a4-4502ef2ec9fe",
   "metadata": {},
   "source": [
    "该代码为flask的基础用法：\n",
    "- 需要创建一个对象app，将flask框架实例化\n",
    "- 使用装饰器绑定路由，route中的路径即为指定路由\n",
    "  - 如`'/'`时，直接访问`http://127.0.0.1:5000`即可，但若为`'/index'`，我们需要访问`http://127.0.0.1:5000/index`才能获取到内容\n",
    "  - 代码中定义了两个方法，每个都有对应绑定的路由，通过添加不同路由可以访问到对应内容\n",
    "- 定义一个函数返回helloworld\n",
    "- 使用`app.run()`运行，若在服务器上执行代码，需要添加`host='0.0.0.0'`表示允许任何主机访问"
   ]
  },
  {
   "cell_type": "markdown",
   "id": "3875f89c-3f55-4368-be85-8e395b2128f0",
   "metadata": {},
   "source": [
    "## 变量规则\n",
    "在路由url中的一部分用变量代替，标记为`<变量类型:变量名>`，作为关键字传给与规则相关联的函数\n",
    "支持变量类型如下：\n",
    "| 类型| 说明|\n",
    "| :-----: | :------: |\n",
    "| string | 接受任何不含斜杠的文本（缺省值） |\n",
    "| int | 接受正整数 | \n",
    "| float | 接受正浮点数 |\n",
    "| path | 接受包含斜杠的字符串 |\n",
    "| uuid | 接受uuid字符串 |"
   ]
  },
  {
   "cell_type": "code",
   "execution_count": null,
   "id": "6f29088d-d9fa-46bd-a889-524ec76a679e",
   "metadata": {},
   "outputs": [],
   "source": [
    "from flask import Flask\n",
    "from re import escape\n",
    "\n",
    "app = Flask(__name__)\n",
    "\n",
    "@app.route('/str/<username>')\n",
    "def name(username):\n",
    "    return \"hello %s\" % username\n",
    "\n",
    "@app.route('/num/<int:number>')\n",
    "def double(number):\n",
    "    return \"doubled = %s\" % (number+number)\n",
    "\n",
    "@app.route('/path/<path:subpath>')\n",
    "def show_subpath(subpath):\n",
    "    return 'subpath: %s' % escape(subpath)\n",
    "\n",
    "app.run()"
   ]
  },
  {
   "cell_type": "markdown",
   "id": "b7cfcc9a-51dd-49fc-8f4a-15b2fbca4b55",
   "metadata": {},
   "source": [
    "## 唯一的URL与重定向行为\n",
    "以下两条路由的不同在于是否使用尾部斜杠\n"
   ]
  },
  {
   "cell_type": "code",
   "execution_count": null,
   "id": "10c800f4-5afe-4c9d-9e4f-541a2fa0b02b",
   "metadata": {},
   "outputs": [],
   "source": [
    "from flask import Flask\n",
    "\n",
    "app = Flask(__name__)\n",
    "\n",
    "@app.route('/projects/')\n",
    "def projects():\n",
    "    return 'the project page'\n",
    "\n",
    "@app.route('/about')\n",
    "def about():\n",
    "    return 'the about page'\n",
    "\n",
    "app.run()"
   ]
  },
  {
   "cell_type": "markdown",
   "id": "1d704e69-76a6-4c7a-8ca2-06da4d25f9cf",
   "metadata": {},
   "source": [
    "`projects`中的url尾部有一个斜杠，表现同一个文件夹，在访问一个没有斜杠结尾的url时，flask回自动重定向，帮你加一个斜杠\n",
    "`about`的url没有尾部斜杠，表现如同一个文件，若在访问时加了尾部斜杠会得到404错误\n",
    "**尽量使用后者的写法，因为可以保持url唯一，避免搜索引擎重复索引同一页面**"
   ]
  },
  {
   "cell_type": "markdown",
   "id": "6e5c205b-3d62-4575-9859-7bed47702dbb",
   "metadata": {},
   "source": [
    "## Flask重定向\n",
    "访问某个网站时跳到另一个页面获取资源的方法\n",
    "需要导入redirect函数，在括号中添加需要的页面"
   ]
  },
  {
   "cell_type": "code",
   "execution_count": null,
   "id": "a88504de-66e5-4945-a15f-755d51cf8aa3",
   "metadata": {},
   "outputs": [],
   "source": [
    "from flask import Flask, redirect\n",
    "\n",
    "app = Flask(__name__)\n",
    "\n",
    "@app.route('/redirect')\n",
    "def redi():\n",
    "    return redirect('https://izayoisakuye.github.io/')\n",
    "\n",
    "app.run()"
   ]
  },
  {
   "cell_type": "markdown",
   "id": "d9a3cdcd-43da-4cf9-8cff-f0a4a3880686",
   "metadata": {},
   "source": [
    "## JSON接口\n",
    "每个路由接口可以自定GET方法（默认）或POST方法\n",
    "我们使用POSTMAN来处理POST\n",
    "获取的数据可以以json, xml, form等方式记录，我们这里使用json"
   ]
  },
  {
   "cell_type": "code",
   "execution_count": null,
   "id": "63bd4550-d12e-409d-bc07-5b487d7e7320",
   "metadata": {},
   "outputs": [],
   "source": [
    "\n",
    "from flask import Flask, request, jsonify\n",
    "from re import escape\n",
    "\n",
    "app = Flask(__name__)\n",
    "\n",
    "@app.route('/test/post', methods=[\"POST\"])\n",
    "def post():\n",
    "    try:\n",
    "        my_json = request.get_json()\n",
    "        print(my_json)\n",
    "        get_name = my_json.get(\"name\")\n",
    "        get_age = my_json.get(\"age\")\n",
    "        if not all([get_name, get_age]):\n",
    "            return jsonify(msg=\"Insufficient parameters\")\n",
    "        get_age += 10\n",
    "        return jsonify(name=get_name, age=get_age)\n",
    "    except Exception as e:\n",
    "        print(e)\n",
    "        return jsonify(msg=\"error\")\n",
    "\n",
    "app.run()"
   ]
  },
  {
   "cell_type": "markdown",
   "id": "7eefe7df-c911-4650-a53b-9a190280686d",
   "metadata": {},
   "source": [
    "- 该route调用了POST方法，故只能通过POST调用\n",
    "- 以json处理时可以导入`jsonify`来返回json格式的数据\n",
    "- 使用`try exception`使出错时的显示更加合理"
   ]
  },
  {
   "cell_type": "markdown",
   "id": "424635fd-5835-427e-b21b-c353b9cf4019",
   "metadata": {},
   "source": [
    "## Flask Cookies\n",
    "若要访问cookies，可以使用cookies属性\n",
    "`set_cookies`方法可以设置cookies\n",
    "请求对象的cookies是一个包含了客户端传输的所有cookies的字典\n",
    "**Flask中使用session比cookies更安全**\n"
   ]
  },
  {
   "cell_type": "code",
   "execution_count": null,
   "id": "7dea4fae-952d-4034-8cc3-b587d5698b35",
   "metadata": {},
   "outputs": [],
   "source": [
    "from flask import Flask, request, make_response, render_template\n",
    "\n",
    "app = Flask(__name__)\n",
    "\n",
    "# 读取cookies\n",
    "@app.route('/')\n",
    "def index():\n",
    "    username = request.cookies.get('username')\n",
    "\n",
    "# 储存cookies\n",
    "@app.route('/')\n",
    "def restore():\n",
    "    resp = make_response(render_template(...))\n",
    "    resp.set_cookie('username', 'the username')\n",
    "    return resp"
   ]
  }
 ],
 "metadata": {
  "kernelspec": {
   "display_name": "Python 3 (ipykernel)",
   "language": "python",
   "name": "python3"
  },
  "language_info": {
   "codemirror_mode": {
    "name": "ipython",
    "version": 3
   },
   "file_extension": ".py",
   "mimetype": "text/x-python",
   "name": "python",
   "nbconvert_exporter": "python",
   "pygments_lexer": "ipython3",
   "version": "3.12.4"
  }
 },
 "nbformat": 4,
 "nbformat_minor": 5
}
