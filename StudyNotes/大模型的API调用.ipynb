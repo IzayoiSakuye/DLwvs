{
 "cells": [
  {
   "cell_type": "markdown",
   "id": "3ee8a69c-6c20-409c-8ab3-8300fea929fc",
   "metadata": {},
   "source": [
    "# 大模型的API调用 \n",
    "\n",
    "## 什么是API：\n",
    "    API是应用程序编程接口，通过定义的一套规则，使得不同软件系统间能相互通信，帮助一个程序向另一个请求数据或功能\n",
    "    而大模型的API是为大型**预训练**模型提供的应用程序编程接口，通过API，开发者可以在自己的应用程序中整合和使用这些大模型的功能，而不用自己训练模型\n",
    "    如ChatGPT之类的大模型，通过API对外提供服务，用户可以通过发送特定请求，获取模型对文本、图像等数据的理解和处理结果\n",
    "\n",
    "## 为什么要选择调用API：\n",
    "- 节省资源：不需要购买和维护昂贵的服务器硬件，也不需要花费时间和计算资源来训练模型。\n",
    "- 易于集成：API的使用方式通常是简单的HTTP请求，便于集成到各种应用中。\n",
    "- 实时更新：模型通常由提供者维护和更新，用户可以不定期获得性能改进和功能扩展。\n",
    "- 可扩展性：用户可以根据需要调整请求的数量和规模，以适应不同的业务需求。\n",
    "\n",
    "## 如何获取API KEY\n",
    "本项目使用**DeepSeek-R1**作为调用模型：\n",
    "- 进入DeepSeek开放平台，充值\n",
    "- 选择API Keys，创建API Key并保存\n",
    "\n",
    "## 代码调用\n",
    "根据DS官网接口文档，调用前需要升级OpenAI SDK\n",
    "`pip3 install -U openai`\n",
    "下面代码为推理模型访问思维链与回答代码"
   ]
  },
  {
   "cell_type": "code",
   "execution_count": null,
   "id": "1bc83d93-a03d-43a7-9d56-6b707c60962f",
   "metadata": {},
   "outputs": [],
   "source": [
    "from openai import OpenAI\n",
    "client = OpenAI(api_key=\"<DeepSeek API Key>\", base_url=\"https://api.deepseek.com\")\n",
    "\n",
    "# Round 1\n",
    "messages = [{\"role\": \"user\", \"content\": \"9.11 and 9.8, which is greater?\"}]\n",
    "response = client.chat.completions.create(\n",
    "    model=\"deepseek-reasoner\",\n",
    "    messages=messages\n",
    ")\n",
    "\n",
    "reasoning_content = response.choices[0].message.reasoning_content\n",
    "content = response.choices[0].message.content\n",
    "\n",
    "# Round 2\n",
    "messages.append({'role': 'assistant', 'content': content})\n",
    "messages.append({'role': 'user', 'content': \"How many Rs are there in the word 'strawberry'?\"})\n",
    "response = client.chat.completions.create(\n",
    "    model=\"deepseek-reasoner\",\n",
    "    messages=messages\n",
    ")\n",
    "# ...\n"
   ]
  },
  {
   "cell_type": "markdown",
   "id": "d8a6342c-46f2-46ac-bc37-4d0fb53cd41d",
   "metadata": {},
   "source": [
    "输入参数：\n",
    "- `max_tokens`：最终回答的最大长度（不含思维链输出），默认为 4K，最大为 8K。请注意，思维链的输出最多可以达到 32K tokens.\n",
    "输出字段：\n",
    "- `reasoning_content`：思维链内容，与 content 同级.\n",
    "- `content`：最终回答内容"
   ]
  },
  {
   "cell_type": "code",
   "execution_count": null,
   "id": "45a2b22e-bbf2-4391-b6dc-a9d4fa11851f",
   "metadata": {},
   "outputs": [],
   "source": []
  }
 ],
 "metadata": {
  "kernelspec": {
   "display_name": "Python 3 (ipykernel)",
   "language": "python",
   "name": "python3"
  },
  "language_info": {
   "codemirror_mode": {
    "name": "ipython",
    "version": 3
   },
   "file_extension": ".py",
   "mimetype": "text/x-python",
   "name": "python",
   "nbconvert_exporter": "python",
   "pygments_lexer": "ipython3",
   "version": "3.12.4"
  }
 },
 "nbformat": 4,
 "nbformat_minor": 5
}
